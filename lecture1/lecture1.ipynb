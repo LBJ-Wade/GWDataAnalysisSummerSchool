{
 "cells": [
  {
   "cell_type": "markdown",
   "metadata": {},
   "source": [
    "# Lecture 1"
   ]
  },
  {
   "cell_type": "markdown",
   "metadata": {},
   "source": [
    "Settings that make the plots look pretty on my Mac:"
   ]
  },
  {
   "cell_type": "code",
   "execution_count": 1,
   "metadata": {},
   "outputs": [
    {
     "name": "stdout",
     "output_type": "stream",
     "text": [
      "Populating the interactive namespace from numpy and matplotlib\n"
     ]
    }
   ],
   "source": [
    "%pylab inline\n",
    "%config InlineBackend.figure_format = 'retina'"
   ]
  },
  {
   "cell_type": "markdown",
   "metadata": {},
   "source": [
    "You will need \n",
    "\n",
    "* [pystan](https://pystan.readthedocs.io/en/latest/).  `pip install pystan` has always worked well for me.  (If you need a good Python distribution, I recommend [anaconda](https://www.continuum.io), which comes with a complete `numpy`, `scipy`, `iPython`, etc stack."
   ]
  },
  {
   "cell_type": "code",
   "execution_count": 2,
   "metadata": {
    "collapsed": true
   },
   "outputs": [],
   "source": [
    "import pystan"
   ]
  },
  {
   "cell_type": "markdown",
   "metadata": {},
   "source": [
    "## Preliminaries (Notes)"
   ]
  },
  {
   "cell_type": "markdown",
   "metadata": {},
   "source": [
    "* $p(d, \\theta) = p\\left( d | \\theta \\right) p\\left( \\theta \\right) = p\\left( \\theta | d \\right) p\\left( d \\right)$ is the fundamental quantity.  A \"just so\" story about how you obtained your data.\n",
    "* Dimensions / forms.\n",
    "* Sampling from versus writing down; normalisation.\n",
    "* Almost always computing.\n",
    "* One way to think about it is that $p$ describes *knowledge*.  For example:\n",
    "  * If I knew $\\theta$, what would I predcit about $d$.\n",
    "  * If I knew $d$, what would I predict about $\\theta$.\n",
    "* Marginalisation."
   ]
  },
  {
   "cell_type": "markdown",
   "metadata": {},
   "source": [
    "## Let's Get Started Fitting"
   ]
  },
  {
   "cell_type": "markdown",
   "metadata": {},
   "source": [
    "We are going to focus today on [Hogg, et al. (2010)](https://arxiv.org/abs/1008.4686).  In this paper, the \"just so\" story will be evolving, but it always involves measuring data `x` and `y` which are (often) related by a linear relationship:\n",
    "$$\n",
    "y = m x + b\n",
    "$$\n",
    "For some reason (maybe we are cosmologists?) we are interested in the parameters $m$ and $b$.  Please read Hogg, et al. (2010)'s cautionary note about this!\n",
    "\n",
    "* Warning about interpretation of b (we will explore this)!"
   ]
  },
  {
   "cell_type": "code",
   "execution_count": 3,
   "metadata": {
    "collapsed": true
   },
   "outputs": [],
   "source": [
    "table1 = genfromtxt('HoggTable1.tsv', names=True)"
   ]
  },
  {
   "cell_type": "code",
   "execution_count": null,
   "metadata": {
    "collapsed": true
   },
   "outputs": [],
   "source": []
  }
 ],
 "metadata": {
  "kernelspec": {
   "display_name": "Python 3",
   "language": "python",
   "name": "python3"
  },
  "language_info": {
   "codemirror_mode": {
    "name": "ipython",
    "version": 3
   },
   "file_extension": ".py",
   "mimetype": "text/x-python",
   "name": "python",
   "nbconvert_exporter": "python",
   "pygments_lexer": "ipython3",
   "version": "3.6.1"
  }
 },
 "nbformat": 4,
 "nbformat_minor": 2
}
